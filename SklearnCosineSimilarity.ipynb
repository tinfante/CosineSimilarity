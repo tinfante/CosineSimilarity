{
 "cells": [
  {
   "cell_type": "code",
   "execution_count": 1,
   "metadata": {},
   "outputs": [],
   "source": [
    "# Silence RuntimeWarning: numpy.dtype size changed, may indicate binary incompatibility.\n",
    "# It's a bening warning when Scipy was compiled against an older Numpy version. Safe to\n",
    "# ignore.\n",
    "\n",
    "import warnings\n",
    "\n",
    "warnings.filterwarnings(\"ignore\", message=\"numpy.dtype size changed\")"
   ]
  },
  {
   "cell_type": "code",
   "execution_count": 2,
   "metadata": {},
   "outputs": [
    {
     "data": {
      "text/plain": [
       "(10, 88)"
      ]
     },
     "execution_count": 2,
     "metadata": {},
     "output_type": "execute_result"
    }
   ],
   "source": [
    "from sklearn.feature_extraction.text import TfidfVectorizer\n",
    "\n",
    "docs = [(\"Ukraine demands 15 year sentence for ousted President and former Paul Manafort \"\n",
    "         'client, Viktor Yanukovych, accusing him of \"betraying his country\" to Russia.'),\n",
    "        \n",
    "        \"Officials worry Trump may back Erik Prince plan to privatize war in Afghanistan\",\n",
    "        \n",
    "        \"Donald Trump: U.S. 'Not Even Talking' To Canada About NAFTA\",\n",
    "        \n",
    "        \"Russia's first ever gay Pride banned within 24 hours of being announced\",\n",
    "        \n",
    "        'Trump is a \"Russian asset\" owned by the mafia, author claims in new book',\n",
    "        \n",
    "        (\"Special counsel Robert Mueller proposes 'well over' 1,000 pieces of evidence for \"\n",
    "         \"next trial of ex-Trump campaign boss Paul Manafort: Attorneys\"),\n",
    "        \n",
    "        (\"China flat out denies the mass incarceration of Xinjiang’s Uyghurs as testimonies \"\n",
    "         \"trickle out\"),\n",
    "        \n",
    "        \"Pentagon worried that U.S. might slide from trade war into actual war with China\",\n",
    "        \n",
    "        \"US says ready to sanction China for buying Iran's oil\",\n",
    "        \n",
    "        (\"Traders are heavily betting on a price decline in coffee as orange juice prices \"\n",
    "         \"soar – all because of crops, currencies and the US/China trade war\")\n",
    "       ]\n",
    "\n",
    "# TfidfVectorizer can be instanced with many useful parameters, e.g.,\n",
    "# ngram_range (for ngram instead of 1-gram/word features), lowercase,\n",
    "# min_df and max_df (for feature min/max document frequency filtering)\n",
    "# strip_accents, tokenizer, norm (l1, l2 normalization), smooth_idf\n",
    "# (on by default, additive smoothing), analyzer (which allows extracting\n",
    "# character-level features, useful as morphological features).\n",
    "tfidf_vectorizer = TfidfVectorizer(stop_words='english')\n",
    "tfidf_matrix = tfidf_vectorizer.fit_transform(docs)\n",
    "\n",
    "tfidf_matrix.shape"
   ]
  },
  {
   "cell_type": "code",
   "execution_count": 3,
   "metadata": {},
   "outputs": [
    {
     "data": {
      "text/plain": [
       "array([[0.        , 0.05284215, 0.        , 0.        , 0.        ,\n",
       "        0.        , 0.04064783, 0.22538064, 0.04653587, 1.        ]])"
      ]
     },
     "execution_count": 3,
     "metadata": {},
     "output_type": "execute_result"
    }
   ],
   "source": [
    "# Lets compare the last document to all the other documents.\n",
    "# As expected, the most similar document is 8, which shares\n",
    "# the words 'China', 'trade', 'war'. 'US' is not considered\n",
    "# since it's part of Sklearn's English stopwords. The other\n",
    "# documents that have some similarity are 2 (shares 'war')\n",
    "# and 7 and 9, which share 'China' with the last document.\n",
    "\n",
    "from sklearn.metrics.pairwise import cosine_similarity\n",
    "cosine_similarity(tfidf_matrix[9:10], tfidf_matrix)"
   ]
  },
  {
   "cell_type": "code",
   "execution_count": 4,
   "metadata": {},
   "outputs": [
    {
     "data": {
      "text/plain": [
       "array([[0.34488089, 0.09582984, 0.12859623, 0.17267964, 0.09325757,\n",
       "        0.30233245, 0.        , 0.        , 0.        , 0.        ]])"
      ]
     },
     "execution_count": 4,
     "metadata": {},
     "output_type": "execute_result"
    }
   ],
   "source": [
    "from copy import copy\n",
    "\n",
    "# Now lets try making a query with a new document. As\n",
    "# expected, most similar documents are 1 and 6, which\n",
    "# both talk about Paul Manafort, and Russia and Trump\n",
    "# respectively. Documents 2, 3 and 5 mentions Trump,\n",
    "# and document 4 Russia, so they also have some\n",
    "# similarity. Document 5 would have a higher score if\n",
    "# 'Russian', through stemming, term expansion or\n",
    "# some other technique, were related to 'Russia'.\n",
    "\n",
    "query = \"Paul Manafort Trump and Russia\"\n",
    "query_vector = tfidf_vectorizer.transform([query])\n",
    "cosine_similarity(query_vector, tfidf_matrix)"
   ]
  }
 ],
 "metadata": {
  "kernelspec": {
   "display_name": "Python 3",
   "language": "python",
   "name": "python3"
  },
  "language_info": {
   "codemirror_mode": {
    "name": "ipython",
    "version": 3
   },
   "file_extension": ".py",
   "mimetype": "text/x-python",
   "name": "python",
   "nbconvert_exporter": "python",
   "pygments_lexer": "ipython3",
   "version": "3.7.3"
  }
 },
 "nbformat": 4,
 "nbformat_minor": 2
}
