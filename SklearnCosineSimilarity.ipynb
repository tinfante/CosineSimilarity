{
 "cells": [
  {
   "cell_type": "code",
   "execution_count": 1,
   "metadata": {},
   "outputs": [],
   "source": [
    "# Silence RuntimeWarning: numpy.dtype size changed, may indicate binary incompatibility.\n",
    "# It's a bening warning when scipy was compiled against an order numpy version. Safe to\n",
    "# ignore.\n",
    "\n",
    "import warnings\n",
    "\n",
    "warnings.filterwarnings(\"ignore\", message=\"numpy.dtype size changed\")"
   ]
  },
  {
   "cell_type": "code",
   "execution_count": 2,
   "metadata": {},
   "outputs": [
    {
     "data": {
      "text/plain": [
       "(10, 88)"
      ]
     },
     "execution_count": 2,
     "metadata": {},
     "output_type": "execute_result"
    }
   ],
   "source": [
    "from sklearn.feature_extraction.text import TfidfVectorizer\n",
    "\n",
    "docs = [\"\"\"Ukraine demands 15 year sentence for ousted President and former Paul Manafort client, Viktor Yanukovych, accusing him of \"betraying his country\" to Russia.\"\"\",\n",
    "        \"\"\"Officials worry Trump may back Erik Prince plan to privatize war in Afghanistan\"\"\",\n",
    "        \"\"\"Donald Trump: U.S. 'Not Even Talking' To Canada About NAFTA\"\"\",\n",
    "        \"\"\"Russia's first ever gay Pride banned within 24 hours of being announced\"\"\",\n",
    "        \"\"\"Trump is a \"Russian asset\" owned by the mafia, author claims in new book\"\"\",\n",
    "        \"\"\"Special counsel Robert Mueller proposes 'well over' 1,000 pieces of evidence for next trial of ex-Trump campaign boss Paul Manafort: Attorneys\"\"\",\n",
    "        \"\"\"China flat out denies the mass incarceration of Xinjiang’s Uyghurs as testimonies trickle out\"\"\",\n",
    "        \"\"\"Pentagon worried that U.S. might slide from trade war into actual war with China\"\"\",\n",
    "        \"\"\"US says ready to sanction China for buying Iran's oil\"\"\",\n",
    "        \"\"\"Traders are heavily betting on a price decline in coffee as orange juice prices soar – all because of crops, currencies and the US/China trade war\"\"\"\n",
    "       ]\n",
    "\n",
    "tfidf_vectorizer = TfidfVectorizer(stop_words='english')\n",
    "tfidf_matrix = tfidf_vectorizer.fit_transform(docs)\n",
    "\n",
    "tfidf_matrix.shape"
   ]
  },
  {
   "cell_type": "code",
   "execution_count": 3,
   "metadata": {},
   "outputs": [
    {
     "data": {
      "text/plain": [
       "array([[0.        , 0.05284215, 0.        , 0.        , 0.        ,\n",
       "        0.        , 0.04064783, 0.22538064, 0.04653587, 1.        ]])"
      ]
     },
     "execution_count": 3,
     "metadata": {},
     "output_type": "execute_result"
    }
   ],
   "source": [
    "# Lets compare the last document to all the other documents.\n",
    "# As expected, the most similar document is 8, which shares\n",
    "# the words 'China', 'trade', 'war'. 'US' is not considered\n",
    "# since it's part of Sklearn's English stopwords. The other\n",
    "# documents that have some similarity are 2 (shares 'war')\n",
    "# and 7 and 9, which share 'China' with the last document.\n",
    "\n",
    "from sklearn.metrics.pairwise import cosine_similarity\n",
    "cosine_similarity(tfidf_matrix[9:10], tfidf_matrix)"
   ]
  }
 ],
 "metadata": {
  "kernelspec": {
   "display_name": "Python 3",
   "language": "python",
   "name": "python3"
  },
  "language_info": {
   "codemirror_mode": {
    "name": "ipython",
    "version": 3
   },
   "file_extension": ".py",
   "mimetype": "text/x-python",
   "name": "python",
   "nbconvert_exporter": "python",
   "pygments_lexer": "ipython3",
   "version": "3.5.2"
  }
 },
 "nbformat": 4,
 "nbformat_minor": 2
}
